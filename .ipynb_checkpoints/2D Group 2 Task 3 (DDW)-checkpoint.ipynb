{
 "cells": [
  {
   "cell_type": "markdown",
   "id": "399ff4f8",
   "metadata": {},
   "source": [
    "# Problem Statement\n",
    "How might we predict a country’s **protein supply per capita** through the analysis of social, environmental, and economic factors such as **GDP, temperature change, consumer prices, import and export quantity and production quantity**?"
   ]
  },
  {
   "cell_type": "markdown",
   "id": "14f8aa9f",
   "metadata": {},
   "source": [
    "# Overall 7 steps Methodology for ML Project\n",
    "Reference: [Google's 7 steps of ML](https://towardsdatascience.com/the-googles-7-steps-of-machine-learning-in-practice-a-tensorflow-example-for-structured-data-96ccbb707d77)\n",
    "\n",
    "Step 1: [Gathering Data](#step1)    \n",
    "Step 2: [Data Preparation](#step2)  \n",
    "Step 3: [Choosing a model](#step3)  \n",
    "Step 4: [Training](#step4)  \n",
    "Step 5: [Evaluation](#step5)  \n",
    "Step 6: [Parameter Tuning](#step6)  \n",
    "Step 7: [Prediction](#step7)  \n",
    "\n",
    "Step 0: [Model Improvements](#modelimp)\n"
   ]
  },
  {
   "cell_type": "markdown",
   "id": "a3fcda05",
   "metadata": {},
   "source": [
    "<a id='step1'></a>\n",
    "# Step 1: Gathering Data\n",
    "  \n",
    "Our data is sourced from FAOstats \\<insert link>  \n",
    "  \n",
    "Before selecting our predictor values, we first designed a persona for each of our statistics. This is done below in [Step 2: data preparation](#step2) through the use of graphs to map out potentially interesting characteristics of each country in relation to each predictor.  \n",
    "\n",
    "We have summarized our findings in the table below:  \n",
    "\\<Insert table of persona in markdown>"
   ]
  },
  {
   "cell_type": "markdown",
   "id": "9b9d1590",
   "metadata": {},
   "source": [
    "<a id='step2'></a>\n",
    "# Step 2: Data Preperation"
   ]
  },
  {
   "cell_type": "markdown",
   "id": "4a8786c2",
   "metadata": {},
   "source": [
    "<a id='step3'></a>\n",
    "# Step 3: Choosing a model\n",
    "\n",
    "Our chosen model is that of multiple linear regression.   \n",
    "\n",
    "In our model, we hypothesize that the protein supplied to people in a country is represented by the function $\\hat{y}$ as follows:\n",
    "\n",
    "$$\\hat{y}(x) =  \\hat{\\beta}_0 + \\hat{\\beta}_1 x_1 + \\hat{\\beta}_2 x_2 + \\ldots + \\hat{\\beta}_n x_n$$  \n",
    "\n",
    "#### <center> OR </center>  \n",
    "\n",
    "$$\\mathbf{\\hat{y}} = \\mathbf{X} \\times \\mathbf{\\hat{b}}$$\n",
    "\n",
    "The cost function of our model is the following, which is derived from the sum of squared errors, i.e $\\frac{1}{2}$MSE:\n",
    "$$J(\\hat{\\beta}_0, \\hat{\\beta}_1) = \\frac{1}{2m}\\Sigma^m_{i=1}\\left(\\hat{y}(x^i)-y^i\\right)^2$$\n",
    "\n",
    "Using calculus to minimize our cost J against $\\hat{\\beta}$, we can derive our gradient descent update equation as the following:\n",
    "$$ \\mathbf{\\hat{b}} = \\mathbf{\\hat{b}} - \\alpha\\frac{1}{m} \\mathbf{X}^T \\times (\\mathbf{X}\\times \\mathbf{\\hat{b}} - \\mathbf{y}) $$\n",
    "\n",
    "With this, we get a column vector of $\\hat{\\beta}$ for our multiple linear regression model which best fits our data."
   ]
  },
  {
   "cell_type": "code",
   "execution_count": null,
   "id": "f078bb83",
   "metadata": {},
   "outputs": [],
   "source": [
    "def calculate_cost():\n",
    "    return\n",
    "\n",
    "def calc_linear():\n",
    "    return\n",
    "\n",
    "def gradient_descent():\n",
    "    return"
   ]
  },
  {
   "cell_type": "markdown",
   "id": "5f45d9f0",
   "metadata": {},
   "source": [
    "<a id='step4'></a>\n",
    "# Step 4: Training"
   ]
  },
  {
   "cell_type": "markdown",
   "id": "1b53241b",
   "metadata": {},
   "source": [
    "<a id='step5'></a>\n",
    "# Step 5: Evaluation"
   ]
  },
  {
   "cell_type": "markdown",
   "id": "463ef4c8",
   "metadata": {},
   "source": [
    "<a id='step6'></a>\n",
    "# Step 6: Parameter Tuning"
   ]
  },
  {
   "cell_type": "markdown",
   "id": "ba1f6c47",
   "metadata": {},
   "source": [
    "<a id='step7'></a>\n",
    "# Step 7: Prediction"
   ]
  },
  {
   "cell_type": "markdown",
   "id": "a80a0ed0",
   "metadata": {},
   "source": [
    "<a id='modelimp'></a>\n",
    "# Model Improvements\n",
    "## Improvement 1: Removal of outliers\n",
    "From our data, we can see certain countries protein supply are far from the median.  \n",
    "Examples include: .... countries ....   \n",
    "  \n",
    "We can arbitarily define outliers as protein supply values less than (Q1 - 1.5 IQR) or protein supply values more than (Q3 + 1.5 IQR). The functions to find these are defined below.\n",
    "  \n",
    "This has two implications that allows us to get a better model:  \n",
    "1. Our chosen cost metric, RMSE, is more sensitive to extreme values. By removing outliers, we can lower our RMSE.\n",
    "2. Our cost function J is equal to \\frac{1}{2} MSE which like RMSE is sensitive to outliers.\n",
    "\n",
    "# Improvement 2: Removal of irrelevant / low correlation predictors  \n",
    "  \n",
    "Based on our graphs, we will be removing ________ as our predictor(s).  \n"
   ]
  },
  {
   "cell_type": "code",
   "execution_count": null,
   "id": "485583cd",
   "metadata": {},
   "outputs": [],
   "source": [
    "def quartile_1(df, target):\n",
    "    return\n",
    "\n",
    "def quartile_3(df, target):\n",
    "    return\n",
    "\n",
    "def iqr(target):\n",
    "    return quartile_3(df, target) - quartile_1(df, target)\n",
    "\n",
    "def remove_outliers(df, target):\n",
    "    \"\"\" \n",
    "    Returns a new dataframe with the outliers row removed.  \n",
    "    \"\"\"\n",
    "    return df_new\n",
    "\n"
   ]
  }
 ],
 "metadata": {
  "kernelspec": {
   "display_name": "Python 3",
   "language": "python",
   "name": "python3"
  },
  "language_info": {
   "codemirror_mode": {
    "name": "ipython",
    "version": 3
   },
   "file_extension": ".py",
   "mimetype": "text/x-python",
   "name": "python",
   "nbconvert_exporter": "python",
   "pygments_lexer": "ipython3",
   "version": "3.8.8"
  }
 },
 "nbformat": 4,
 "nbformat_minor": 5
}
